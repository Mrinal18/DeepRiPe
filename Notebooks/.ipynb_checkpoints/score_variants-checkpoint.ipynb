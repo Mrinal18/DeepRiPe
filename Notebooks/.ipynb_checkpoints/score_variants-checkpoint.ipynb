{
 "cells": [
  {
   "cell_type": "code",
   "execution_count": 11,
   "metadata": {},
   "outputs": [
    {
     "name": "stderr",
     "output_type": "stream",
     "text": [
      "/data/ohler/Mahsa/Projects/DeepRiPe/deepripe/deepripe/plotseqlogo.py:45: FutureWarning: arrays to stack must be passed as a \"sequence\" type such as list or tuple. Support for non-sequence iterables such as generators is deprecated as of NumPy 1.16 and will raise an error in the future.\n",
      "  min_coords = np.vstack(data.min(0) for data in polygons_data).min(0)\n",
      "/data/ohler/Mahsa/Projects/DeepRiPe/deepripe/deepripe/plotseqlogo.py:46: FutureWarning: arrays to stack must be passed as a \"sequence\" type such as list or tuple. Support for non-sequence iterables such as generators is deprecated as of NumPy 1.16 and will raise an error in the future.\n",
      "  max_coords = np.vstack(data.max(0) for data in polygons_data).max(0)\n",
      "/home/mghanba/anaconda3/envs/deep/lib/python3.6/site-packages/sklearn/externals/six.py:31: DeprecationWarning: The module is deprecated in version 0.21 and will be removed in version 0.23 since we've dropped support for Python 2.7. Please rely on the official version of six (https://pypi.org/project/six/).\n",
      "  \"(https://pypi.org/project/six/).\", DeprecationWarning)\n",
      "/home/mghanba/anaconda3/envs/deep/lib/python3.6/site-packages/sklearn/externals/joblib/__init__.py:15: DeprecationWarning: sklearn.externals.joblib is deprecated in 0.21 and will be removed in 0.23. Please import this functionality directly from joblib, which can be installed with: pip install joblib. If this warning is raised when loading pickled models, you may need to re-serialize those models with scikit-learn 0.21+.\n",
      "  warnings.warn(msg, category=DeprecationWarning)\n"
     ]
    }
   ],
   "source": [
    "import os\n",
    "import sys\n",
    "\n",
    "import numpy as np\n",
    "np.random.seed(7) # for reproducibility\n",
    "import pandas as pd \n",
    "import pybedtools\n",
    "\n",
    "import matplotlib.pyplot as plt\n",
    "import seaborn as sns\n",
    "\n",
    "import keras.backend as K\n",
    "from keras.models import Model, load_model\n",
    "\n",
    "import sys\n",
    "sys.path.append(\"/data/ohler/Mahsa/Projects/Deepreg/deep_reg/\")\n",
    "\n",
    "import sys\n",
    "sys.path.append(\"/data/ohler/Mahsa/Projects/DeepRiPe/deepripe/\")\n",
    "from deepripe.utils import *\n",
    "from deepripe.IntegratedGradients import *\n",
    "from deepripe.plotseqlogo import seqlogo, seqlogo_fig\n",
    "from deepripe.encode_utils import *\n",
    "from deepripe.snp_utils import * \n",
    "%matplotlib inline"
   ]
  },
  {
   "cell_type": "code",
   "execution_count": 12,
   "metadata": {},
   "outputs": [
    {
     "name": "stdout",
     "output_type": "stream",
     "text": [
      "Evaluated output channel (0-based index): All\n",
      "Building gradient functions\n",
      "Progress: 9.0%"
     ]
    },
    {
     "name": "stderr",
     "output_type": "stream",
     "text": [
      "/home/mghanba/anaconda3/envs/deep/lib/python3.6/site-packages/keras/engine/saving.py:327: UserWarning: Error in loading the saved optimizer state. As a result, your model is starting with a freshly initialized optimizer.\n",
      "  warnings.warn('Error in loading the saved optimizer '\n"
     ]
    },
    {
     "name": "stdout",
     "output_type": "stream",
     "text": [
      "Progress: 100.0%\n",
      "Done.\n",
      "Evaluated output channel (0-based index): All\n",
      "Building gradient functions\n",
      "Progress: 4.7%"
     ]
    },
    {
     "name": "stderr",
     "output_type": "stream",
     "text": [
      "/home/mghanba/anaconda3/envs/deep/lib/python3.6/site-packages/keras/engine/saving.py:327: UserWarning: Error in loading the saved optimizer state. As a result, your model is starting with a freshly initialized optimizer.\n",
      "  warnings.warn('Error in loading the saved optimizer '\n"
     ]
    },
    {
     "name": "stdout",
     "output_type": "stream",
     "text": [
      "Progress: 100.0%\n",
      "Done.\n",
      "Evaluated output channel (0-based index): All\n",
      "Building gradient functions\n",
      "Progress: 3.7%"
     ]
    },
    {
     "name": "stderr",
     "output_type": "stream",
     "text": [
      "/home/mghanba/anaconda3/envs/deep/lib/python3.6/site-packages/keras/engine/saving.py:327: UserWarning: Error in loading the saved optimizer state. As a result, your model is starting with a freshly initialized optimizer.\n",
      "  warnings.warn('Error in loading the saved optimizer '\n"
     ]
    },
    {
     "name": "stdout",
     "output_type": "stream",
     "text": [
      "Progress: 100.0%\n",
      "Done.\n"
     ]
    }
   ],
   "source": [
    "def precision(y_true, y_pred):\n",
    "\ttrue_positives = K.sum(K.round(K.clip(y_true * y_pred, 0, 1)))\n",
    "\t#TPs=K.sum(K.round(K.clip(y_true * y_pred , 0, 1)))\n",
    "\tpredicted_positives = K.sum(K.round(K.clip(y_pred, 0, 1)))\n",
    "\tprecision = true_positives / (predicted_positives + K.epsilon())\n",
    "\treturn precision\n",
    "\n",
    "def recall(y_true, y_pred):\n",
    "\ttrue_positives = K.sum(K.round(K.clip(y_true * y_pred, 0, 1)))\n",
    "\t#TPs=K.sum(K.round(K.clip(y_ture * y_pred , 0, 1)))\n",
    "\tpossible_positives = K.sum(K.round(K.clip(y_true, 0, 1)))\n",
    "\trecall = true_positives / (possible_positives + K.epsilon())\n",
    "\treturn recall\n",
    "\n",
    "\n",
    "\n",
    "RBPnames_low=np.array(['MBNL1', 'P53_NONO', 'PUM2', 'QKI', 'AGO3', 'FUS', 'TAF15', 'ZFP36', 'DICER1', 'EIF3A', 'EIF3D', 'EIF3G', 'SSB', 'PAPD5', 'CPSF4', 'CPSF3', 'RTCB', 'FXR1', 'NOP58', 'NOP56', 'FBL', 'LIN28A', 'LIN28B', 'UPF1', 'G35', 'G45', 'XPO5'])\n",
    "RBPnames_med=np.array(['TARDBP', 'ELAVL2', 'ELAVL3', 'ELAVL4', 'RBM20', 'IGF2BP1', 'IGF2BP2', 'IGF2BP3', 'EWSR1', 'HNRNPD', 'RBPMS', 'SRRM4', 'AGO2', 'NUDT21', 'FIP1L1', 'CAPRIN1', 'FMR1iso7', 'FXR2', 'AGO1', 'L1RE1', 'ORF1'])\n",
    "RBPnames_high=np.array(['DND1', 'CPSF7', 'CPSF6', 'CPSF1', 'CSTF2', 'CSTF2T', 'ZC3H7B', 'FMR1iso1', 'RBM10', 'MOV10', 'ELAVL1'])\n",
    "\n",
    "\n",
    "path_to_data = \"/data/ohler/Mahsa/Projects/DeepRNA/Results/paper_results/\"\n",
    "\n",
    "path_to_modelhigh= path_to_data + \"model6_RBPshigh.h5\"\n",
    "path_to_modelmed= path_to_data + \"model6_RBPsmed.h5\"\n",
    "path_to_modellow= path_to_data + \"model6_RBPslow.h5\"\n",
    "\n",
    "\n",
    "model_high=load_model(path_to_modelhigh, custom_objects={'precision': precision,'recall': recall }) \n",
    "igres_high = integrated_gradients(model_high) \n",
    "\n",
    "model_med=load_model(path_to_modelmed, custom_objects={'precision': precision,'recall': recall }) \n",
    "igres_med = integrated_gradients(model_med) \n",
    "\n",
    "model_low=load_model(path_to_modellow, custom_objects={'precision': precision,'recall': recall }) \n",
    "igres_low = integrated_gradients(model_low) \n"
   ]
  },
  {
   "cell_type": "code",
   "execution_count": null,
   "metadata": {},
   "outputs": [],
   "source": []
  },
  {
   "cell_type": "code",
   "execution_count": null,
   "metadata": {},
   "outputs": [],
   "source": []
  },
  {
   "cell_type": "code",
   "execution_count": 30,
   "metadata": {},
   "outputs": [],
   "source": [
    "##Function to prepare the input for the model from variants bedfile\n",
    "##The bedfile should be as follows : chr\tstart\tend\t  variant_name    W/M     strand  where(start=end)\n",
    "\n",
    "def encode_variant_bedline(bedline,genomefasta,flank_size=75):\n",
    "    mut_a = bedline[4].split(\"/\")[1]\n",
    "    strand = bedline[5]\n",
    "    if len(mut_a)==1:\n",
    "        wild = pybedtools.BedTool(bedline[0] + \"\\t\" + str(int(bedline[1])-flank_size) + \"\\t\"  + str(int(bedline[2])+flank_size) + \"\\t\" + \n",
    "                                  bedline[3] + \"\\t\" + str(mut_a) + \"\\t\" + bedline[5], from_string=True )\n",
    "        if strand == \"-\" :\n",
    "            mut_pos= flank_size\n",
    "        else:\n",
    "            mut_pos= flank_size-1\n",
    "                            \n",
    "        #wild = pybedtools.BedTool(bedline[0] + \"\\t\" + bedline[1] + \"\\t\" + bedline[2] + \"\\t\" + bedline[3] + \"\\t\"+ bedline[4] + \"\\t\" + bedline[5], from_string=True)\n",
    "        wild = wild.sequence(fi=genomefasta, tab=True, s=True)\n",
    "        fastalist = open(wild.seqfn).read().split(\"\\n\")\n",
    "        del fastalist[-1]\n",
    "        seqs=[fasta.split(\"\\t\")[1] for fasta in fastalist]\n",
    "        mut=seqs[0]\n",
    "        mut = list(mut)\n",
    "        mut[mut_pos] = mut_a\n",
    "        mut = \"\".join(mut)\n",
    "        seqs.append(mut)\n",
    "        encoded_seqs =np.array([seq_to_1hot(seq) for seq in seqs])\n",
    "        encoded_seqs = np.transpose(encoded_seqs,axes=(0,2,1))\n",
    "        return(encoded_seqs)\n",
    "                   \n",
    "    \n",
    "\n",
    "\n",
    "##Function to score variants using models with both sequence and region \n",
    "def score_variant_withregion(model,RBP_index,variant_bed,genomefasta,tr=0.1):\n",
    "    reg_coded = np.full((250, 4), 0.25)\n",
    "    region=np.array([reg_coded,reg_coded])\n",
    "    score_list = []\n",
    "    bed_list = []\n",
    "    seqs_list = []\n",
    "    for bedline in variant_bed:\n",
    "        encoded_seqs = encode_variant_bedline(bedline,genomefasta)\n",
    "        if encoded_seqs is not None:\n",
    "            pred = model.predict([encoded_seqs,region])[:,RBP_index]\n",
    "            score = (pred[1]-pred[0])\n",
    "            if abs(score) > tr:\n",
    "                score_list.append(score)\n",
    "                bed_list.append(bedline)\n",
    "                seqs_list.append(encoded_seqs)\n",
    "    return(score_list,bed_list,seqs_list)\n",
    "\n",
    "\n",
    "####Function to score variants using models with only sequence\n",
    "def score_variant_onlyseq(model,RBP_index,variant_bed,genomefasta,tr=0.1):\n",
    "    score_list = []\n",
    "    bed_list = []\n",
    "    seqs_list = []\n",
    "    for bedline in variant_bed:\n",
    "        encoded_seqs = encode_variant_bedline(bedline,genomefasta)\n",
    "        if encoded_seqs is not None:\n",
    "            pred = model.predict(encoded_seqs)[:,RBP_index]\n",
    "            score = (pred[1]-pred[0])\n",
    "            if abs(score) > tr:\n",
    "                score_list.append(score)\n",
    "                bed_list.append(bedline)\n",
    "                seqs_list.append(encoded_seqs)\n",
    "    return(score_list,bed_list,seqs_list) \n",
    "\n",
    "\n",
    "####Function to plot attribution map for variant using models with both sequence and region \n",
    "def plot_variant_map_withregion(bedlines,igres,RBP_index,genomefasta,figsave_path=\"\"):\n",
    "    for bedline in bedlines[0:bedlines.count()]:\n",
    "        encoded_seqs = encode_variant_bedline(bedline,genomefasta)\n",
    "        reg_coded = np.full((250, 4), 0.25)\n",
    "        ex_seq = np.array([igres.explain([encoded_seqs[i],reg_coded],outc=RBP_index,reference=False)[0] for i in [0,1]])\n",
    "        plt.close(\"all\")\n",
    "        seqlogo_fig_cross2(np.transpose(ex_seq[:,50:100,:4],axes=(1,2,0)), vocab=\"RNA\", figsize=(4,1.5), ncol=1, crosssite=True, cross_positions=[(24.5,25.5),(24.5,25.5),(24.5,25.5)])\n",
    "        #plt.savefig(os.path.join(figsave_path,bedline[3]+\"_\"+str(RBP_index)+\"_region.pdf\"),dpi=300)\n",
    "        #plt.savefig(os.path.join(figsave_path,bedline[3]+\"_\"+str(RBP_index)+\"_region.png\"),dpi=300)\n",
    "        plt.show()\n",
    "        \n",
    "####Function to plot attribution map for variant using models with only sequence\n",
    "def plot_variant_map_onlyseq(bedlines,igres,RBP_index,genomefasta,figsave_path=\"\"):\n",
    "    for bedline in bedlines[0:bedlines.count()]:\n",
    "        encoded_seqs = encode_variant_bedline(bedline,genomefasta)\n",
    "        ex_seq = np.array([igres.explain(encoded_seqs[i],outc=RBP_index,reference=False)[0] for i in [0,1]])\n",
    "        plt.close(\"all\")\n",
    "        seqlogo_fig_cross2(np.transpose(ex_seq[:,50:100,:4],axes=(1,2,0)), vocab=\"RNA\", figsize=(4,1.5), ncol=1, crosssite=True, cross_positions=[(24.5,25.5),(24.5,25.5),(24.5,25.5)])\n",
    "        #plt.savefig(os.path.join(figsave_path,bedline[3]+\"_\"+str(RBP_index)+\"_region.pdf\"),dpi=300)\n",
    "        #plt.savefig(os.path.join(figsave_path,bedline[3]+\"_\"+str(RBP_index)+\"_region.png\"),dpi=300)\n",
    "        plt.show()\n",
    "        \n",
    "\n"
   ]
  },
  {
   "cell_type": "code",
   "execution_count": null,
   "metadata": {},
   "outputs": [],
   "source": [
    "variant_bed = \"\"\"\n",
    "... chr1    23463451    23463451    COSN20570016\tC/T\t+\n",
    "... chr3\t54360029\t54360029\tCOSN6770341    C/G\t+\n",
    "... chr3\t77695126\t77695126\tCOSN28578284\tG/C\t+\n",
    "... chr5\t39393068\t39393068\tCOSN5605138    T/A\t+\n",
    "... \"\"\"\n",
    "\n",
    "variant_bed = pybedtools.BedTool(variant_bed, from_string=True)\n",
    "variant_bed.head()"
   ]
  },
  {
   "cell_type": "code",
   "execution_count": 39,
   "metadata": {},
   "outputs": [
    {
     "name": "stdout",
     "output_type": "stream",
     "text": [
      "[-0.48881012, 0.26178163, -0.34999308, -0.17389172]\n"
     ]
    }
   ],
   "source": [
    "genomefasta=\"/data/ohler/iGenomes/Homo_sapiens/UCSC/hg19/Sequence/WholeGenomeFasta/genome.fa\"\n",
    "\n",
    "RBP_name=\"MBNL1\"\n",
    "model = model_low\n",
    "RBPnames= RBPnames_low\n",
    "igres = igres_low\n",
    "\n",
    "RBP_index = np.where(RBPnames == RBP_name)[0][0]\n",
    "\n",
    "MBNL1_score_list, MBNL1_bed_list, MBNL1_seqs_list = score_variant_withregion(model,RBP_index,variant_bed,genomefasta,tr=0.1)\n",
    "print(MBNL1_score_list)"
   ]
  },
  {
   "cell_type": "code",
   "execution_count": 40,
   "metadata": {},
   "outputs": [
    {
     "data": {
      "image/png": "[encoded data removed]",
      "text/plain": [
       "<Figure size 288x108 with 2 Axes>"
      ]
     },
     "metadata": {
      "needs_background": "light"
     },
     "output_type": "display_data"
    },
    {
     "data": {
      "image/png": "[encoded data removed]",
      "text/plain": [
       "<Figure size 288x108 with 2 Axes>"
      ]
     },
     "metadata": {
      "needs_background": "light"
     },
     "output_type": "display_data"
    },
    {
     "data": {
      "image/png": "[encoded data removed]",
      "text/plain": [
       "<Figure size 288x108 with 2 Axes>"
      ]
     },
     "metadata": {
      "needs_background": "light"
     },
     "output_type": "display_data"
    },
    {
     "data": {
      "image/png": "[encoded data removed]",
      "text/plain": [
       "<Figure size 288x108 with 2 Axes>"
      ]
     },
     "metadata": {
      "needs_background": "light"
     },
     "output_type": "display_data"
    }
   ],
   "source": [
    "plot_variant_map_withregion(variant_bed,igres_low,0,genomefasta)"
   ]
  },
  {
   "cell_type": "code",
   "execution_count": 37,
   "metadata": {},
   "outputs": [],
   "source": []
  },
  {
   "cell_type": "code",
   "execution_count": null,
   "metadata": {},
   "outputs": [],
   "source": []
  }
 ],
 "metadata": {
  "kernelspec": {
   "display_name": "Python 3",
   "language": "python",
   "name": "python3"
  },
  "language_info": {
   "codemirror_mode": {
    "name": "ipython",
    "version": 3
   },
   "file_extension": ".py",
   "mimetype": "text/x-python",
   "name": "python",
   "nbconvert_exporter": "python",
   "pygments_lexer": "ipython3",
   "version": "3.6.9"
  }
 },
 "nbformat": 4,
 "nbformat_minor": 4
}
